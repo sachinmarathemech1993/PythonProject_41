{
 "cells": [
  {
   "cell_type": "code",
   "execution_count": 7,
   "id": "c376f987",
   "metadata": {},
   "outputs": [],
   "source": [
    "#shallow copy:\n",
    "#syntax:  copy.copy(argument)"
   ]
  },
  {
   "cell_type": "code",
   "execution_count": 8,
   "id": "1c8ff3c6",
   "metadata": {},
   "outputs": [],
   "source": [
    "import copy"
   ]
  },
  {
   "cell_type": "code",
   "execution_count": 9,
   "id": "a347db16",
   "metadata": {},
   "outputs": [],
   "source": [
    "list_1=[1,2,3,4,5,6,7,[12,20]]"
   ]
  },
  {
   "cell_type": "code",
   "execution_count": 10,
   "id": "ef2e7c59",
   "metadata": {},
   "outputs": [
    {
     "data": {
      "text/plain": [
       "[1, 2, 3, 4, 5, 6, 7, [12, 20]]"
      ]
     },
     "execution_count": 10,
     "metadata": {},
     "output_type": "execute_result"
    }
   ],
   "source": [
    "list_1"
   ]
  },
  {
   "cell_type": "code",
   "execution_count": 11,
   "id": "d9b81f11",
   "metadata": {},
   "outputs": [],
   "source": [
    "list_2=copy.copy(list_1)"
   ]
  },
  {
   "cell_type": "code",
   "execution_count": 12,
   "id": "16de10ff",
   "metadata": {},
   "outputs": [
    {
     "data": {
      "text/plain": [
       "[1, 2, 3, 4, 5, 6, 7, [12, 20]]"
      ]
     },
     "execution_count": 12,
     "metadata": {},
     "output_type": "execute_result"
    }
   ],
   "source": [
    "list_2"
   ]
  },
  {
   "cell_type": "code",
   "execution_count": 15,
   "id": "0ebc8453",
   "metadata": {},
   "outputs": [
    {
     "name": "stdout",
     "output_type": "stream",
     "text": [
      "list_1 ID:: 2669453810688 value:: [1, 2, 3, 4, 5, 6, 7, [12, 20]]\n"
     ]
    }
   ],
   "source": [
    "print('list_1 ID::',id(list_1),'value::',list_1)"
   ]
  },
  {
   "cell_type": "code",
   "execution_count": 17,
   "id": "796ddc2d",
   "metadata": {},
   "outputs": [
    {
     "name": "stdout",
     "output_type": "stream",
     "text": [
      "list_2 ID:: 2669453505536 value:: [1, 2, 3, 4, 5, 6, 7, [12, 20]]\n"
     ]
    }
   ],
   "source": [
    "print('list_2 ID::',id(list_2),'value::',list_2)"
   ]
  },
  {
   "cell_type": "code",
   "execution_count": 16,
   "id": "7edb15b2",
   "metadata": {},
   "outputs": [],
   "source": [
    "#deep copy\n",
    "#syntax:- copy.deepcopy()"
   ]
  },
  {
   "cell_type": "code",
   "execution_count": 19,
   "id": "791f2f95",
   "metadata": {},
   "outputs": [],
   "source": [
    "list_3=copy.deepcopy(list_1)"
   ]
  },
  {
   "cell_type": "code",
   "execution_count": 20,
   "id": "b72873a5",
   "metadata": {},
   "outputs": [
    {
     "name": "stdout",
     "output_type": "stream",
     "text": [
      "li3 ID: 2669454028032 value: [1, 2, 3, 4, 5, 6, 7, [12, 20]]\n"
     ]
    }
   ],
   "source": [
    "print('li3 ID:',id(list_3),'value:',list_3)"
   ]
  },
  {
   "cell_type": "code",
   "execution_count": 21,
   "id": "d0abad04",
   "metadata": {},
   "outputs": [],
   "source": [
    "#ex2"
   ]
  },
  {
   "cell_type": "code",
   "execution_count": 22,
   "id": "2d6529f5",
   "metadata": {},
   "outputs": [
    {
     "name": "stdout",
     "output_type": "stream",
     "text": [
      "li2 ID:  2669453968192 Value:  [1, 2, [3, 5], 4]\n",
      "li3 ID:  2669453913984 Value:  [1, 2, [3, 5], 4]\n"
     ]
    }
   ],
   "source": [
    "# initializing list 1\n",
    "li1 = [1, 2, [3, 5], 4]\n",
    " \n",
    "# using copy for shallow copy\n",
    "li2 = copy.copy(li1)\n",
    "print(\"li2 ID: \", id(li2), \"Value: \", li2)\n",
    "# using deepcopy for deepcopy\n",
    "li3 = copy.deepcopy(li1)\n",
    "print(\"li3 ID: \", id(li3), \"Value: \", li3)"
   ]
  },
  {
   "cell_type": "code",
   "execution_count": null,
   "id": "dd72f73f",
   "metadata": {},
   "outputs": [],
   "source": []
  }
 ],
 "metadata": {
  "kernelspec": {
   "display_name": "Python 3 (ipykernel)",
   "language": "python",
   "name": "python3"
  },
  "language_info": {
   "codemirror_mode": {
    "name": "ipython",
    "version": 3
   },
   "file_extension": ".py",
   "mimetype": "text/x-python",
   "name": "python",
   "nbconvert_exporter": "python",
   "pygments_lexer": "ipython3",
   "version": "3.9.12"
  }
 },
 "nbformat": 4,
 "nbformat_minor": 5
}
