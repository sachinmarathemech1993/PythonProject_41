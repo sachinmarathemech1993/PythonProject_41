{
 "cells": [
  {
   "cell_type": "code",
   "execution_count": 1,
   "id": "fe92b67e",
   "metadata": {},
   "outputs": [],
   "source": [
    "def addition():\n",
    "    a=10\n",
    "    b=20\n",
    "    c=a+b\n",
    "    print(c)"
   ]
  },
  {
   "cell_type": "code",
   "execution_count": 2,
   "id": "a064c9d0",
   "metadata": {},
   "outputs": [
    {
     "name": "stdout",
     "output_type": "stream",
     "text": [
      "30\n"
     ]
    }
   ],
   "source": [
    "addition()"
   ]
  },
  {
   "cell_type": "code",
   "execution_count": 4,
   "id": "2312b703",
   "metadata": {},
   "outputs": [],
   "source": [
    "def mul(a,b):\n",
    "    print(a+b)"
   ]
  },
  {
   "cell_type": "code",
   "execution_count": 5,
   "id": "45c32be6",
   "metadata": {},
   "outputs": [
    {
     "name": "stdout",
     "output_type": "stream",
     "text": [
      "15\n"
     ]
    }
   ],
   "source": [
    "mul(10,5)"
   ]
  },
  {
   "cell_type": "code",
   "execution_count": 8,
   "id": "0ffa0f41",
   "metadata": {},
   "outputs": [],
   "source": [
    "def conc(a,b):\n",
    "    \n",
    "    c = a+'@'+b\n",
    "    print(c)"
   ]
  },
  {
   "cell_type": "code",
   "execution_count": 9,
   "id": "331670cc",
   "metadata": {},
   "outputs": [
    {
     "name": "stdout",
     "output_type": "stream",
     "text": [
      "sachin@marathe\n"
     ]
    }
   ],
   "source": [
    "conc('sachin','marathe')"
   ]
  },
  {
   "cell_type": "code",
   "execution_count": 10,
   "id": "6b09f024",
   "metadata": {},
   "outputs": [],
   "source": [
    "def email(a,b,c):\n",
    "    email_id = a+b+c\n",
    "    print(email_id)"
   ]
  },
  {
   "cell_type": "code",
   "execution_count": 11,
   "id": "cf5dc9a2",
   "metadata": {},
   "outputs": [
    {
     "name": "stdout",
     "output_type": "stream",
     "text": [
      "sachinmarathe@gmail.com\n"
     ]
    }
   ],
   "source": [
    "email('sachinmarathe','@','gmail.com')"
   ]
  },
  {
   "cell_type": "code",
   "execution_count": 12,
   "id": "6eb309c8",
   "metadata": {},
   "outputs": [],
   "source": [
    "#return"
   ]
  },
  {
   "cell_type": "code",
   "execution_count": 13,
   "id": "6724ebe2",
   "metadata": {},
   "outputs": [],
   "source": [
    "def multi(x,y):\n",
    "    z = x*y\n",
    "    return z"
   ]
  },
  {
   "cell_type": "code",
   "execution_count": 16,
   "id": "6d71de49",
   "metadata": {},
   "outputs": [],
   "source": [
    "var=multi(10,2)"
   ]
  },
  {
   "cell_type": "code",
   "execution_count": 17,
   "id": "69bb5546",
   "metadata": {},
   "outputs": [
    {
     "data": {
      "text/plain": [
       "20"
      ]
     },
     "execution_count": 17,
     "metadata": {},
     "output_type": "execute_result"
    }
   ],
   "source": [
    "var"
   ]
  },
  {
   "cell_type": "code",
   "execution_count": 18,
   "id": "1c25a50f",
   "metadata": {},
   "outputs": [],
   "source": [
    "#print"
   ]
  },
  {
   "cell_type": "code",
   "execution_count": 19,
   "id": "b5cc4d43",
   "metadata": {},
   "outputs": [],
   "source": [
    "def multi(x,y):\n",
    "    z = x*y\n",
    "    print(z)"
   ]
  },
  {
   "cell_type": "code",
   "execution_count": 21,
   "id": "7e8c7d3a",
   "metadata": {},
   "outputs": [
    {
     "name": "stdout",
     "output_type": "stream",
     "text": [
      "30\n"
     ]
    }
   ],
   "source": [
    "r=multi(10,3)"
   ]
  },
  {
   "cell_type": "code",
   "execution_count": 22,
   "id": "2b8b25ab",
   "metadata": {},
   "outputs": [],
   "source": [
    "r"
   ]
  },
  {
   "cell_type": "code",
   "execution_count": 23,
   "id": "80051d8f",
   "metadata": {},
   "outputs": [
    {
     "data": {
      "text/plain": [
       "NoneType"
      ]
     },
     "execution_count": 23,
     "metadata": {},
     "output_type": "execute_result"
    }
   ],
   "source": [
    "type(r)"
   ]
  },
  {
   "cell_type": "code",
   "execution_count": 24,
   "id": "56101428",
   "metadata": {},
   "outputs": [],
   "source": [
    "def bonus(b):\n",
    "    bonus_cal = (b/100)*10\n",
    "    return bonus_cal"
   ]
  },
  {
   "cell_type": "code",
   "execution_count": 26,
   "id": "48eb4cf8",
   "metadata": {},
   "outputs": [],
   "source": [
    "bon=bonus(45000)"
   ]
  },
  {
   "cell_type": "code",
   "execution_count": 27,
   "id": "8706c9c8",
   "metadata": {},
   "outputs": [
    {
     "data": {
      "text/plain": [
       "4500.0"
      ]
     },
     "execution_count": 27,
     "metadata": {},
     "output_type": "execute_result"
    }
   ],
   "source": [
    "bon"
   ]
  },
  {
   "cell_type": "code",
   "execution_count": 28,
   "id": "71714e32",
   "metadata": {},
   "outputs": [],
   "source": [
    "def sal_gross(sal):\n",
    "    total_bonus=bonus(sal)        # function bonus calling here\n",
    "    gr_sal=total_bonus + sal\n",
    "    return gr_sal\n",
    "    "
   ]
  },
  {
   "cell_type": "code",
   "execution_count": 29,
   "id": "b892e8f5",
   "metadata": {},
   "outputs": [
    {
     "data": {
      "text/plain": [
       "49500.0"
      ]
     },
     "execution_count": 29,
     "metadata": {},
     "output_type": "execute_result"
    }
   ],
   "source": [
    "sal_gross(45000)"
   ]
  },
  {
   "cell_type": "code",
   "execution_count": 47,
   "id": "30fd2d6a",
   "metadata": {},
   "outputs": [],
   "source": [
    "def add(a,b):\n",
    "    if (type(a)==int or type(b)==int) and (type(a)==int or type(b)==int):\n",
    "        return a+b\n",
    "    elif type(a)==str and type(b)==str:\n",
    "        return a+'@'+b\n",
    "    else:\n",
    "        return 'invalid entry'"
   ]
  },
  {
   "cell_type": "code",
   "execution_count": 48,
   "id": "47247550",
   "metadata": {},
   "outputs": [
    {
     "data": {
      "text/plain": [
       "35.2"
      ]
     },
     "execution_count": 48,
     "metadata": {},
     "output_type": "execute_result"
    }
   ],
   "source": [
    "add(25.2,10)"
   ]
  },
  {
   "cell_type": "code",
   "execution_count": 49,
   "id": "f80f6e35",
   "metadata": {},
   "outputs": [
    {
     "data": {
      "text/plain": [
       "'mah@mahesh'"
      ]
     },
     "execution_count": 49,
     "metadata": {},
     "output_type": "execute_result"
    }
   ],
   "source": [
    "add('mah','mahesh')"
   ]
  },
  {
   "cell_type": "code",
   "execution_count": 54,
   "id": "b6e3b124",
   "metadata": {},
   "outputs": [
    {
     "data": {
      "text/plain": [
       "'invalid entry'"
      ]
     },
     "execution_count": 54,
     "metadata": {},
     "output_type": "execute_result"
    }
   ],
   "source": [
    "add(True,False)"
   ]
  },
  {
   "cell_type": "code",
   "execution_count": 76,
   "id": "828d9716",
   "metadata": {},
   "outputs": [],
   "source": [
    "p=[1,10,13,15]\n",
    "\n",
    "def even_odd(test):\n",
    "    for i in test:\n",
    "        if i%2!=0:\n",
    "            return i"
   ]
  },
  {
   "cell_type": "code",
   "execution_count": 77,
   "id": "4b3ac1b3",
   "metadata": {},
   "outputs": [
    {
     "data": {
      "text/plain": [
       "1"
      ]
     },
     "execution_count": 77,
     "metadata": {},
     "output_type": "execute_result"
    }
   ],
   "source": [
    "even_odd(p)"
   ]
  },
  {
   "cell_type": "code",
   "execution_count": 78,
   "id": "f52a7941",
   "metadata": {},
   "outputs": [
    {
     "data": {
      "text/plain": [
       "1"
      ]
     },
     "execution_count": 78,
     "metadata": {},
     "output_type": "execute_result"
    }
   ],
   "source": [
    "even_odd(p)"
   ]
  },
  {
   "cell_type": "code",
   "execution_count": 80,
   "id": "62a58af7",
   "metadata": {},
   "outputs": [],
   "source": [
    "P=[1,10,13,15]"
   ]
  },
  {
   "cell_type": "code",
   "execution_count": 88,
   "id": "20459cf1",
   "metadata": {},
   "outputs": [],
   "source": [
    "def even_odd(test):\n",
    "    for i in test:\n",
    "        if i%2!=0:\n",
    "            print('even_number',i)\n",
    "        else:\n",
    "            print('odd_number',i)"
   ]
  },
  {
   "cell_type": "code",
   "execution_count": 89,
   "id": "fcb6c1c4",
   "metadata": {},
   "outputs": [
    {
     "name": "stdout",
     "output_type": "stream",
     "text": [
      "even_number 1\n",
      "odd_number 10\n",
      "even_number 13\n",
      "even_number 15\n"
     ]
    }
   ],
   "source": [
    "even_odd(P)"
   ]
  },
  {
   "cell_type": "code",
   "execution_count": 91,
   "id": "e2a2be41",
   "metadata": {},
   "outputs": [],
   "source": [
    "def even_odd(p):\n",
    "    even_list=[]\n",
    "    odd_list=[]\n",
    "    for i in p:\n",
    "        if i%2==0:\n",
    "            even_list.append(i)\n",
    "        else:\n",
    "            odd_list.append(i)\n",
    "    return even_list,odd_list"
   ]
  },
  {
   "cell_type": "code",
   "execution_count": 93,
   "id": "5739a879",
   "metadata": {},
   "outputs": [],
   "source": [
    "e,o=even_odd([1,3,75,84,24,12,15,19,21])"
   ]
  },
  {
   "cell_type": "code",
   "execution_count": 94,
   "id": "cd5cbff5",
   "metadata": {},
   "outputs": [
    {
     "data": {
      "text/plain": [
       "[84, 24, 12]"
      ]
     },
     "execution_count": 94,
     "metadata": {},
     "output_type": "execute_result"
    }
   ],
   "source": [
    "e"
   ]
  },
  {
   "cell_type": "code",
   "execution_count": 95,
   "id": "fa65ec75",
   "metadata": {},
   "outputs": [
    {
     "data": {
      "text/plain": [
       "[1, 3, 75, 15, 19, 21]"
      ]
     },
     "execution_count": 95,
     "metadata": {},
     "output_type": "execute_result"
    }
   ],
   "source": [
    "o"
   ]
  },
  {
   "cell_type": "code",
   "execution_count": 28,
   "id": "08bec918",
   "metadata": {},
   "outputs": [],
   "source": [
    "#Write a Python function to find the maximum of three numbers.\n",
    "\n",
    "\n",
    "def max_of_two(a,b):\n",
    "    if a>b:\n",
    "        return a\n",
    "\n",
    "    "
   ]
  },
  {
   "cell_type": "code",
   "execution_count": 29,
   "id": "2fc999da",
   "metadata": {},
   "outputs": [
    {
     "data": {
      "text/plain": [
       "7"
      ]
     },
     "execution_count": 29,
     "metadata": {},
     "output_type": "execute_result"
    }
   ],
   "source": [
    "max_of_two(7,5)"
   ]
  },
  {
   "cell_type": "code",
   "execution_count": 30,
   "id": "b1fe967d",
   "metadata": {},
   "outputs": [],
   "source": [
    "def max_of_three(a,b,c):\n",
    "    return max_of_two(a,max_of_two(b,c))"
   ]
  },
  {
   "cell_type": "code",
   "execution_count": 32,
   "id": "8036e547",
   "metadata": {},
   "outputs": [
    {
     "data": {
      "text/plain": [
       "10"
      ]
     },
     "execution_count": 32,
     "metadata": {},
     "output_type": "execute_result"
    }
   ],
   "source": [
    "max_of_three(10,8,6)"
   ]
  },
  {
   "cell_type": "code",
   "execution_count": 36,
   "id": "c98ccdb6",
   "metadata": {},
   "outputs": [],
   "source": [
    "def max_of_four(a,b,c,d):\n",
    "    if a>b and b>c and c>d:\n",
    "        return a"
   ]
  },
  {
   "cell_type": "code",
   "execution_count": 37,
   "id": "9f400926",
   "metadata": {},
   "outputs": [
    {
     "data": {
      "text/plain": [
       "20"
      ]
     },
     "execution_count": 37,
     "metadata": {},
     "output_type": "execute_result"
    }
   ],
   "source": [
    "max_of_four(20,10,5,1)"
   ]
  },
  {
   "cell_type": "code",
   "execution_count": 38,
   "id": "2845d8db",
   "metadata": {},
   "outputs": [],
   "source": [
    "#2. Write a Python function to sum all the numbers in a list."
   ]
  },
  {
   "cell_type": "code",
   "execution_count": 39,
   "id": "6628934e",
   "metadata": {},
   "outputs": [],
   "source": [
    "\n",
    "def summation_of_list_element(p):\n",
    "    sum=0\n",
    "    for i in p:\n",
    "        sum = sum+i\n",
    "    return sum\n",
    "        "
   ]
  },
  {
   "cell_type": "code",
   "execution_count": 41,
   "id": "0ae7c3d1",
   "metadata": {},
   "outputs": [
    {
     "data": {
      "text/plain": [
       "55"
      ]
     },
     "execution_count": 41,
     "metadata": {},
     "output_type": "execute_result"
    }
   ],
   "source": [
    "summation_of_list_element(range(11))"
   ]
  },
  {
   "cell_type": "code",
   "execution_count": 42,
   "id": "c106fd50",
   "metadata": {},
   "outputs": [
    {
     "data": {
      "text/plain": [
       "25"
      ]
     },
     "execution_count": 42,
     "metadata": {},
     "output_type": "execute_result"
    }
   ],
   "source": [
    "summation_of_list_element((1,3,5,7,9))"
   ]
  },
  {
   "cell_type": "code",
   "execution_count": 75,
   "id": "c102b25c",
   "metadata": {},
   "outputs": [],
   "source": [
    "p=[1,2,3,4,5]\n",
    "def sum_even(p):\n",
    "    odd_sum=0\n",
    "    even_sum=0\n",
    "    for i in p:\n",
    "        if i%2==0:\n",
    "            even_sum=even_sum+i\n",
    "        else:\n",
    "            odd_sum=odd_sum+i\n",
    "    return even_sum,odd_sum\n",
    "        "
   ]
  },
  {
   "cell_type": "code",
   "execution_count": 76,
   "id": "e363eec8",
   "metadata": {},
   "outputs": [
    {
     "data": {
      "text/plain": [
       "(6, 9)"
      ]
     },
     "execution_count": 76,
     "metadata": {},
     "output_type": "execute_result"
    }
   ],
   "source": [
    "sum_even([1,2,3,4,5])"
   ]
  },
  {
   "cell_type": "code",
   "execution_count": 79,
   "id": "aa33c264",
   "metadata": {},
   "outputs": [],
   "source": [
    "#3. Write a Python function to multiply all the numbers in a list."
   ]
  },
  {
   "cell_type": "code",
   "execution_count": 88,
   "id": "0f9534a9",
   "metadata": {},
   "outputs": [],
   "source": [
    "def mul(p):\n",
    "    multply=1\n",
    "    for i in p:\n",
    "        multply = multply*i\n",
    "    return mult\n",
    "    "
   ]
  },
  {
   "cell_type": "code",
   "execution_count": 92,
   "id": "797998f4",
   "metadata": {},
   "outputs": [
    {
     "data": {
      "text/plain": [
       "120"
      ]
     },
     "execution_count": 92,
     "metadata": {},
     "output_type": "execute_result"
    }
   ],
   "source": [
    "mul([1,2,3,4,5])"
   ]
  },
  {
   "cell_type": "code",
   "execution_count": 93,
   "id": "af51853d",
   "metadata": {},
   "outputs": [],
   "source": [
    "#4. Write a Python program to reverse a string."
   ]
  },
  {
   "cell_type": "code",
   "execution_count": 97,
   "id": "adc8a0da",
   "metadata": {},
   "outputs": [],
   "source": [
    "def reverse_str(x):\n",
    "    index=len(x)\n",
    "    reverse_x=''\n",
    "    while index>0:\n",
    "        reverse_x += x[index-1]\n",
    "        index=index-1\n",
    "    return reverse_x\n",
    "    \n",
    "    "
   ]
  },
  {
   "cell_type": "code",
   "execution_count": 99,
   "id": "dfa4a463",
   "metadata": {},
   "outputs": [
    {
     "data": {
      "text/plain": [
       "'dcba'"
      ]
     },
     "execution_count": 99,
     "metadata": {},
     "output_type": "execute_result"
    }
   ],
   "source": [
    "reverse_str('abcd')"
   ]
  },
  {
   "cell_type": "code",
   "execution_count": 100,
   "id": "f8196d42",
   "metadata": {},
   "outputs": [
    {
     "data": {
      "text/plain": [
       "''"
      ]
     },
     "execution_count": 100,
     "metadata": {},
     "output_type": "execute_result"
    }
   ],
   "source": [
    "reverse_str('')"
   ]
  },
  {
   "cell_type": "code",
   "execution_count": 101,
   "id": "153ee01e",
   "metadata": {},
   "outputs": [],
   "source": [
    "#5.Write a Python function to calculate the factorial of a number (a non-negative integer). The function accepts the number as an argument."
   ]
  },
  {
   "cell_type": "code",
   "execution_count": 112,
   "id": "7ffbd91b",
   "metadata": {},
   "outputs": [
    {
     "name": "stdout",
     "output_type": "stream",
     "text": [
      "Enter the number::24\n"
     ]
    }
   ],
   "source": [
    "#number=int(input('Enter the number::'))\n",
    "def factorial(number):\n",
    "    if number==0:\n",
    "        return 1\n",
    "    else:\n",
    "        return number * factorial(number-1)\n",
    "    "
   ]
  },
  {
   "cell_type": "code",
   "execution_count": 113,
   "id": "723f8649",
   "metadata": {},
   "outputs": [
    {
     "data": {
      "text/plain": [
       "620448401733239439360000"
      ]
     },
     "execution_count": 113,
     "metadata": {},
     "output_type": "execute_result"
    }
   ],
   "source": [
    "factorial(24)"
   ]
  },
  {
   "cell_type": "code",
   "execution_count": 114,
   "id": "44f20662",
   "metadata": {},
   "outputs": [],
   "source": [
    "#Write a Python function to check whether a number falls within a given range."
   ]
  },
  {
   "cell_type": "code",
   "execution_count": 119,
   "id": "aab7ee44",
   "metadata": {},
   "outputs": [],
   "source": [
    "def test_number_in_range(n):\n",
    "    if n in range(1,11,1):\n",
    "        print('number present in given range::',n)\n",
    "    else:\n",
    "        print('number outside the given range::''yes')"
   ]
  },
  {
   "cell_type": "code",
   "execution_count": 120,
   "id": "89e7619c",
   "metadata": {},
   "outputs": [
    {
     "name": "stdout",
     "output_type": "stream",
     "text": [
      "number present in given range:: 10\n"
     ]
    }
   ],
   "source": [
    "test_number_in_range(10)"
   ]
  },
  {
   "cell_type": "code",
   "execution_count": 121,
   "id": "9db17c99",
   "metadata": {},
   "outputs": [
    {
     "name": "stdout",
     "output_type": "stream",
     "text": [
      "number outside the given range::yes\n"
     ]
    }
   ],
   "source": [
    "test_number_in_range(100)"
   ]
  },
  {
   "cell_type": "code",
   "execution_count": 122,
   "id": "eb3200ef",
   "metadata": {},
   "outputs": [],
   "source": [
    "#7. Write a Python function that accepts a string and counts the number of upper and lower case letters."
   ]
  },
  {
   "cell_type": "code",
   "execution_count": null,
   "id": "6e5bc6ed",
   "metadata": {},
   "outputs": [],
   "source": [
    "string='The quick Brow Fox'\n",
    "upper=3\n",
    "lower=12"
   ]
  },
  {
   "cell_type": "code",
   "execution_count": 134,
   "id": "22b8ab96",
   "metadata": {},
   "outputs": [],
   "source": [
    "def upper_lower_count(string):\n",
    "    upper_count=0\n",
    "    lower_count=0\n",
    "    for i in string:\n",
    "        if i.isupper():\n",
    "            upper_count += 1   \n",
    "            \n",
    "        elif i.islower():\n",
    "            lower_count += 1\n",
    "            \n",
    "            \n",
    "        else:\n",
    "            pass\n",
    "        \n",
    "    return upper_count,lower_count\n",
    "            "
   ]
  },
  {
   "cell_type": "code",
   "execution_count": 137,
   "id": "5e8e968b",
   "metadata": {},
   "outputs": [],
   "source": [
    "uppercase_count,lowercase_count=upper_lower_count('The quick Brow Fox')"
   ]
  },
  {
   "cell_type": "code",
   "execution_count": 139,
   "id": "b40f98b2",
   "metadata": {},
   "outputs": [
    {
     "data": {
      "text/plain": [
       "3"
      ]
     },
     "execution_count": 139,
     "metadata": {},
     "output_type": "execute_result"
    }
   ],
   "source": [
    "uppercase_count"
   ]
  },
  {
   "cell_type": "code",
   "execution_count": 141,
   "id": "714df483",
   "metadata": {},
   "outputs": [
    {
     "data": {
      "text/plain": [
       "12"
      ]
     },
     "execution_count": 141,
     "metadata": {},
     "output_type": "execute_result"
    }
   ],
   "source": [
    "lowercase_count"
   ]
  },
  {
   "cell_type": "code",
   "execution_count": 142,
   "id": "b4255149",
   "metadata": {},
   "outputs": [],
   "source": [
    "#8. Write a Python function that takes a list and returns a new list with distinct elements from the first list."
   ]
  },
  {
   "cell_type": "code",
   "execution_count": 159,
   "id": "d21f7a08",
   "metadata": {},
   "outputs": [],
   "source": [
    "def list_distinct(p):\n",
    "    new_list=[]\n",
    "    for i in p:\n",
    "        if p.count(i)==1:\n",
    "            new_list.append(i)\n",
    "        else:\n",
    "            pass\n",
    "    return new_list\n",
    "            "
   ]
  },
  {
   "cell_type": "code",
   "execution_count": 160,
   "id": "4b04eb5f",
   "metadata": {},
   "outputs": [
    {
     "data": {
      "text/plain": [
       "[1, 2, 4, 5]"
      ]
     },
     "execution_count": 160,
     "metadata": {},
     "output_type": "execute_result"
    }
   ],
   "source": [
    "list_distinct([1,2,3,3,3,3,4,5])"
   ]
  },
  {
   "cell_type": "code",
   "execution_count": null,
   "id": "ef139648",
   "metadata": {},
   "outputs": [],
   "source": [
    "#Write a Python function that takes a number as a parameter and checks whether the number is prime or not.\n",
    "\n",
    "#Note : A prime number (or a prime) is a natural number greater than 1 and that has no positive divisors other than 1 and itself."
   ]
  },
  {
   "cell_type": "code",
   "execution_count": 201,
   "id": "6cc1c0b0",
   "metadata": {},
   "outputs": [],
   "source": [
    "\n",
    "def prime_number_test(p):\n",
    "    prime_number=[]\n",
    "    for num in range(1,101):\n",
    "        if num>1:\n",
    "            for i in range(2,num):\n",
    "                if num%i==0:\n",
    "                    break\n",
    "            else:\n",
    "                prime_number.append(num)\n",
    "    return prime_number"
   ]
  },
  {
   "cell_type": "code",
   "execution_count": 202,
   "id": "b098a2ee",
   "metadata": {},
   "outputs": [
    {
     "data": {
      "text/plain": [
       "[2,\n",
       " 3,\n",
       " 5,\n",
       " 7,\n",
       " 11,\n",
       " 13,\n",
       " 17,\n",
       " 19,\n",
       " 23,\n",
       " 29,\n",
       " 31,\n",
       " 37,\n",
       " 41,\n",
       " 43,\n",
       " 47,\n",
       " 53,\n",
       " 59,\n",
       " 61,\n",
       " 67,\n",
       " 71,\n",
       " 73,\n",
       " 79,\n",
       " 83,\n",
       " 89,\n",
       " 97]"
      ]
     },
     "execution_count": 202,
     "metadata": {},
     "output_type": "execute_result"
    }
   ],
   "source": [
    "prime_number_test(range(1,101))"
   ]
  },
  {
   "cell_type": "code",
   "execution_count": 203,
   "id": "2c32d741",
   "metadata": {},
   "outputs": [],
   "source": [
    "#10. Write a Python program to print the even numbers from a given list."
   ]
  },
  {
   "cell_type": "code",
   "execution_count": 216,
   "id": "21d713e8",
   "metadata": {},
   "outputs": [],
   "source": [
    "p=[1, 2, 3, 4, 5, 6, 7, 8, 9]\n",
    "\n",
    "even_list=[]\n",
    "def even(p):\n",
    "    for i in p:\n",
    "        if i%2==0:\n",
    "            even_list.append(i)\n",
    "    return even_list"
   ]
  },
  {
   "cell_type": "code",
   "execution_count": 217,
   "id": "73289557",
   "metadata": {},
   "outputs": [
    {
     "data": {
      "text/plain": [
       "[2, 4, 6, 8]"
      ]
     },
     "execution_count": 217,
     "metadata": {},
     "output_type": "execute_result"
    }
   ],
   "source": [
    "even([1, 2, 3, 4, 5, 6, 7, 8, 9])"
   ]
  },
  {
   "cell_type": "code",
   "execution_count": 237,
   "id": "9ad55e80",
   "metadata": {},
   "outputs": [],
   "source": [
    "p=[1, 2, 3, 4, 5, 6, 7, 8, 9]\n",
    "\n",
    "def even(p):\n",
    "    for i in p:\n",
    "        if i%2==0:\n",
    "            print('even number::',i)"
   ]
  },
  {
   "cell_type": "code",
   "execution_count": 238,
   "id": "4b61dbbe",
   "metadata": {},
   "outputs": [
    {
     "name": "stdout",
     "output_type": "stream",
     "text": [
      "even number:: 2\n",
      "even number:: 4\n",
      "even number:: 6\n",
      "even number:: 8\n"
     ]
    }
   ],
   "source": [
    "even([1, 2, 3, 4, 5, 6, 7, 8, 9])"
   ]
  },
  {
   "cell_type": "code",
   "execution_count": 250,
   "id": "00c8934f",
   "metadata": {},
   "outputs": [],
   "source": [
    "def perfect_no(num):\n",
    "    per=0\n",
    "    for i in range(1,num):\n",
    "        if num%i == 0:\n",
    "            \n",
    "            per += i\n",
    "    return per == num"
   ]
  },
  {
   "cell_type": "code",
   "execution_count": 251,
   "id": "22831f05",
   "metadata": {},
   "outputs": [
    {
     "data": {
      "text/plain": [
       "False"
      ]
     },
     "execution_count": 251,
     "metadata": {},
     "output_type": "execute_result"
    }
   ],
   "source": [
    "perfect_no(10)"
   ]
  },
  {
   "cell_type": "code",
   "execution_count": 252,
   "id": "2be9f246",
   "metadata": {},
   "outputs": [
    {
     "data": {
      "text/plain": [
       "True"
      ]
     },
     "execution_count": 252,
     "metadata": {},
     "output_type": "execute_result"
    }
   ],
   "source": [
    "perfect_no(6)"
   ]
  },
  {
   "cell_type": "code",
   "execution_count": 253,
   "id": "c532d5cf",
   "metadata": {},
   "outputs": [],
   "source": [
    "def perfect_number(n):\n",
    "    sum = 0\n",
    "    for x in range(1, n):\n",
    "        if n % x == 0:\n",
    "            sum += x\n",
    "    return sum == n\n"
   ]
  },
  {
   "cell_type": "code",
   "execution_count": 254,
   "id": "4d385271",
   "metadata": {},
   "outputs": [
    {
     "data": {
      "text/plain": [
       "True"
      ]
     },
     "execution_count": 254,
     "metadata": {},
     "output_type": "execute_result"
    }
   ],
   "source": [
    "perfect_number(6)"
   ]
  },
  {
   "cell_type": "code",
   "execution_count": 266,
   "id": "35b74549",
   "metadata": {},
   "outputs": [],
   "source": [
    "def perfect_no(p):\n",
    "    per_no=[]\n",
    "    for i in p:\n",
    "        if i%6==0:\n",
    "            per_no.append(i)\n",
    "    return per_no\n",
    "        "
   ]
  },
  {
   "cell_type": "code",
   "execution_count": 267,
   "id": "d800c137",
   "metadata": {},
   "outputs": [
    {
     "data": {
      "text/plain": [
       "[6]"
      ]
     },
     "execution_count": 267,
     "metadata": {},
     "output_type": "execute_result"
    }
   ],
   "source": [
    "perfect_no([1,2,3,4,5,6,7,8,9,10])"
   ]
  },
  {
   "cell_type": "code",
   "execution_count": null,
   "id": "9bd28124",
   "metadata": {},
   "outputs": [],
   "source": []
  },
  {
   "cell_type": "code",
   "execution_count": null,
   "id": "44206275",
   "metadata": {},
   "outputs": [],
   "source": []
  }
 ],
 "metadata": {
  "kernelspec": {
   "display_name": "Python 3 (ipykernel)",
   "language": "python",
   "name": "python3"
  },
  "language_info": {
   "codemirror_mode": {
    "name": "ipython",
    "version": 3
   },
   "file_extension": ".py",
   "mimetype": "text/x-python",
   "name": "python",
   "nbconvert_exporter": "python",
   "pygments_lexer": "ipython3",
   "version": "3.9.12"
  }
 },
 "nbformat": 4,
 "nbformat_minor": 5
}
