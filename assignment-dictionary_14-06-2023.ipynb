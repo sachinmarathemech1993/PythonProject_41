{
 "cells": [
  {
   "cell_type": "code",
   "execution_count": 1,
   "id": "4702bab1",
   "metadata": {},
   "outputs": [],
   "source": [
    "data = {  \n",
    "   \"Records\":[  \n",
    "      {  \n",
    "         \"eventVersion\":\"2.2\",\n",
    "         \"eventSource\":\"aws:s3\",\n",
    "         \"awsRegion\":\"us-west-2\",\n",
    "         \"eventTime\":\"The time, in ISO-8601 format, for example, 1970-01-01T00:00:00.000Z, when Amazon S3 finished processing the request\",\n",
    "         \"eventName\":\"event-type\",\n",
    "         \"userIdentity\":{  \n",
    "            \"principalId\":\"Amazon-customer-ID-of-the-user-who-caused-the-event\"\n",
    "         },\n",
    "         \"requestParameters\":{  \n",
    "            \"sourceIPAddress\":\"ip-address-where-request-came-from\"\n",
    "         },\n",
    "         \"responseElements\":{  \n",
    "            \"x-amz-request-id\":\"Amazon S3 generated request ID\",\n",
    "            \"x-amz-id-2\":\"Amazon S3 host that processed the request\"\n",
    "         },\n",
    "         \"s3\":{  \n",
    "            \"s3SchemaVersion\":\"1.0\",\n",
    "            \"configurationId\":\"ID found in the bucket notification configuration\",\n",
    "            \"bucket\":{  \n",
    "               \"name\":\"bucket-name\",\n",
    "               \"ownerIdentity\":{  \n",
    "                  \"principalId\":\"Amazon-customer-ID-of-the-bucket-owner\"\n",
    "               },\n",
    "               \"arn\":\"bucket-ARN\"\n",
    "            },\n",
    "            \"object\":{  \n",
    "               \"key\":\"object-key\",\n",
    "               \"size\":\"object-size in bytes\",\n",
    "               \"eTag\":\"object eTag\",\n",
    "               \"versionId\":\"object version if bucket is versioning-enabled, otherwise null\",\n",
    "               \"sequencer\": \"a string representation of a hexadecimal value used to determine event sequence, only used with PUTs and DELETEs\"\n",
    "            }\n",
    "         },\n",
    "         \"glacierEventData\": {\n",
    "            \"restoreEventData\": {\n",
    "               \"lifecycleRestorationExpiryTime\": \"The time, in ISO-8601 format, for example, 1970-01-01T00:00:00.000Z, of Restore Expiry\",\n",
    "               \"lifecycleRestoreStorageClass\": \"Source storage class for restore\"\n",
    "            }\n",
    "         }\n",
    "      }\n",
    "   ]\n",
    "}"
   ]
  },
  {
   "cell_type": "code",
   "execution_count": 2,
   "id": "abae7983",
   "metadata": {},
   "outputs": [
    {
     "data": {
      "text/plain": [
       "{'Records': [{'eventVersion': '2.2',\n",
       "   'eventSource': 'aws:s3',\n",
       "   'awsRegion': 'us-west-2',\n",
       "   'eventTime': 'The time, in ISO-8601 format, for example, 1970-01-01T00:00:00.000Z, when Amazon S3 finished processing the request',\n",
       "   'eventName': 'event-type',\n",
       "   'userIdentity': {'principalId': 'Amazon-customer-ID-of-the-user-who-caused-the-event'},\n",
       "   'requestParameters': {'sourceIPAddress': 'ip-address-where-request-came-from'},\n",
       "   'responseElements': {'x-amz-request-id': 'Amazon S3 generated request ID',\n",
       "    'x-amz-id-2': 'Amazon S3 host that processed the request'},\n",
       "   's3': {'s3SchemaVersion': '1.0',\n",
       "    'configurationId': 'ID found in the bucket notification configuration',\n",
       "    'bucket': {'name': 'bucket-name',\n",
       "     'ownerIdentity': {'principalId': 'Amazon-customer-ID-of-the-bucket-owner'},\n",
       "     'arn': 'bucket-ARN'},\n",
       "    'object': {'key': 'object-key',\n",
       "     'size': 'object-size in bytes',\n",
       "     'eTag': 'object eTag',\n",
       "     'versionId': 'object version if bucket is versioning-enabled, otherwise null',\n",
       "     'sequencer': 'a string representation of a hexadecimal value used to determine event sequence, only used with PUTs and DELETEs'}},\n",
       "   'glacierEventData': {'restoreEventData': {'lifecycleRestorationExpiryTime': 'The time, in ISO-8601 format, for example, 1970-01-01T00:00:00.000Z, of Restore Expiry',\n",
       "     'lifecycleRestoreStorageClass': 'Source storage class for restore'}}}]}"
      ]
     },
     "execution_count": 2,
     "metadata": {},
     "output_type": "execute_result"
    }
   ],
   "source": [
    "data"
   ]
  },
  {
   "cell_type": "code",
   "execution_count": 3,
   "id": "e5c661e1",
   "metadata": {},
   "outputs": [
    {
     "data": {
      "text/plain": [
       "dict_keys(['Records'])"
      ]
     },
     "execution_count": 3,
     "metadata": {},
     "output_type": "execute_result"
    }
   ],
   "source": [
    "data.keys()"
   ]
  },
  {
   "cell_type": "code",
   "execution_count": 4,
   "id": "2dfd134e",
   "metadata": {},
   "outputs": [
    {
     "data": {
      "text/plain": [
       "dict_values([[{'eventVersion': '2.2', 'eventSource': 'aws:s3', 'awsRegion': 'us-west-2', 'eventTime': 'The time, in ISO-8601 format, for example, 1970-01-01T00:00:00.000Z, when Amazon S3 finished processing the request', 'eventName': 'event-type', 'userIdentity': {'principalId': 'Amazon-customer-ID-of-the-user-who-caused-the-event'}, 'requestParameters': {'sourceIPAddress': 'ip-address-where-request-came-from'}, 'responseElements': {'x-amz-request-id': 'Amazon S3 generated request ID', 'x-amz-id-2': 'Amazon S3 host that processed the request'}, 's3': {'s3SchemaVersion': '1.0', 'configurationId': 'ID found in the bucket notification configuration', 'bucket': {'name': 'bucket-name', 'ownerIdentity': {'principalId': 'Amazon-customer-ID-of-the-bucket-owner'}, 'arn': 'bucket-ARN'}, 'object': {'key': 'object-key', 'size': 'object-size in bytes', 'eTag': 'object eTag', 'versionId': 'object version if bucket is versioning-enabled, otherwise null', 'sequencer': 'a string representation of a hexadecimal value used to determine event sequence, only used with PUTs and DELETEs'}}, 'glacierEventData': {'restoreEventData': {'lifecycleRestorationExpiryTime': 'The time, in ISO-8601 format, for example, 1970-01-01T00:00:00.000Z, of Restore Expiry', 'lifecycleRestoreStorageClass': 'Source storage class for restore'}}}]])"
      ]
     },
     "execution_count": 4,
     "metadata": {},
     "output_type": "execute_result"
    }
   ],
   "source": [
    "data.values()"
   ]
  },
  {
   "cell_type": "code",
   "execution_count": 5,
   "id": "50e6cd02",
   "metadata": {},
   "outputs": [
    {
     "data": {
      "text/plain": [
       "dict_items([('Records', [{'eventVersion': '2.2', 'eventSource': 'aws:s3', 'awsRegion': 'us-west-2', 'eventTime': 'The time, in ISO-8601 format, for example, 1970-01-01T00:00:00.000Z, when Amazon S3 finished processing the request', 'eventName': 'event-type', 'userIdentity': {'principalId': 'Amazon-customer-ID-of-the-user-who-caused-the-event'}, 'requestParameters': {'sourceIPAddress': 'ip-address-where-request-came-from'}, 'responseElements': {'x-amz-request-id': 'Amazon S3 generated request ID', 'x-amz-id-2': 'Amazon S3 host that processed the request'}, 's3': {'s3SchemaVersion': '1.0', 'configurationId': 'ID found in the bucket notification configuration', 'bucket': {'name': 'bucket-name', 'ownerIdentity': {'principalId': 'Amazon-customer-ID-of-the-bucket-owner'}, 'arn': 'bucket-ARN'}, 'object': {'key': 'object-key', 'size': 'object-size in bytes', 'eTag': 'object eTag', 'versionId': 'object version if bucket is versioning-enabled, otherwise null', 'sequencer': 'a string representation of a hexadecimal value used to determine event sequence, only used with PUTs and DELETEs'}}, 'glacierEventData': {'restoreEventData': {'lifecycleRestorationExpiryTime': 'The time, in ISO-8601 format, for example, 1970-01-01T00:00:00.000Z, of Restore Expiry', 'lifecycleRestoreStorageClass': 'Source storage class for restore'}}}])])"
      ]
     },
     "execution_count": 5,
     "metadata": {},
     "output_type": "execute_result"
    }
   ],
   "source": [
    "data.items()"
   ]
  },
  {
   "cell_type": "code",
   "execution_count": 54,
   "id": "1f799c62",
   "metadata": {},
   "outputs": [
    {
     "data": {
      "text/plain": [
       "{'eventVersion': '2.2',\n",
       " 'eventSource': 'aws:s3',\n",
       " 'awsRegion': 'us-west-2',\n",
       " 'eventTime': 'The time, in ISO-8601 format, for example, 1970-01-01T00:00:00.000Z, when Amazon S3 finished processing the request',\n",
       " 'eventName': 'event-type',\n",
       " 'userIdentity': {'principalId': 'Amazon-customer-ID-of-the-user-who-caused-the-event'},\n",
       " 'requestParameters': {'sourceIPAddress': 'ip-address-where-request-came-from'},\n",
       " 'responseElements': {'x-amz-request-id': 'Amazon S3 generated request ID',\n",
       "  'x-amz-id-2': 'Amazon S3 host that processed the request'},\n",
       " 's3': {'s3SchemaVersion': '1.0',\n",
       "  'configurationId': 'ID found in the bucket notification configuration',\n",
       "  'bucket': {'name': 'bucket-name',\n",
       "   'ownerIdentity': {'principalId': 'Amazon-customer-ID-of-the-bucket-owner'},\n",
       "   'arn': 'bucket-ARN'},\n",
       "  'object': {'key': 'object-key',\n",
       "   'size': 'object-size in bytes',\n",
       "   'eTag': 'object eTag',\n",
       "   'versionId': 'object version if bucket is versioning-enabled, otherwise null',\n",
       "   'sequencer': 'a string representation of a hexadecimal value used to determine event sequence, only used with PUTs and DELETEs'}},\n",
       " 'glacierEventData': {'restoreEventData': {'lifecycleRestorationExpiryTime': 'The time, in ISO-8601 format, for example, 1970-01-01T00:00:00.000Z, of Restore Expiry',\n",
       "   'lifecycleRestoreStorageClass': 'Source storage class for restore'}}}"
      ]
     },
     "execution_count": 54,
     "metadata": {},
     "output_type": "execute_result"
    }
   ],
   "source": [
    "data['Records'][0]"
   ]
  },
  {
   "cell_type": "code",
   "execution_count": 55,
   "id": "ead15915",
   "metadata": {},
   "outputs": [
    {
     "data": {
      "text/plain": [
       "'object-key'"
      ]
     },
     "execution_count": 55,
     "metadata": {},
     "output_type": "execute_result"
    }
   ],
   "source": [
    "data['Records'][0][ 's3']['object']['key']"
   ]
  },
  {
   "cell_type": "code",
   "execution_count": 56,
   "id": "330fcd19",
   "metadata": {},
   "outputs": [
    {
     "data": {
      "text/plain": [
       "'bucket-name'"
      ]
     },
     "execution_count": 56,
     "metadata": {},
     "output_type": "execute_result"
    }
   ],
   "source": [
    "data['Records'][0][ 's3']['bucket']['name']"
   ]
  },
  {
   "cell_type": "code",
   "execution_count": 57,
   "id": "a17da59c",
   "metadata": {},
   "outputs": [
    {
     "data": {
      "text/plain": [
       "'bucket-ARN'"
      ]
     },
     "execution_count": 57,
     "metadata": {},
     "output_type": "execute_result"
    }
   ],
   "source": [
    "data['Records'][0]['s3']['bucket']['arn']"
   ]
  },
  {
   "cell_type": "code",
   "execution_count": 1,
   "id": "635df652",
   "metadata": {},
   "outputs": [],
   "source": [
    "#1. Write a Python script to sort (ascending and descending) a dictionary by value."
   ]
  },
  {
   "cell_type": "code",
   "execution_count": 2,
   "id": "abac2836",
   "metadata": {},
   "outputs": [],
   "source": [
    "d = {1: 2, 3: 4, 4: 3, 2: 1, 0: 0}"
   ]
  },
  {
   "cell_type": "code",
   "execution_count": 3,
   "id": "c3c1b06c",
   "metadata": {},
   "outputs": [
    {
     "data": {
      "text/plain": [
       "{1: 2, 3: 4, 4: 3, 2: 1, 0: 0}"
      ]
     },
     "execution_count": 3,
     "metadata": {},
     "output_type": "execute_result"
    }
   ],
   "source": [
    "d"
   ]
  },
  {
   "cell_type": "code",
   "execution_count": 6,
   "id": "9ff9abce",
   "metadata": {},
   "outputs": [],
   "source": [
    "sorted_d=sorted(d.items())"
   ]
  },
  {
   "cell_type": "code",
   "execution_count": 7,
   "id": "3811106d",
   "metadata": {},
   "outputs": [
    {
     "data": {
      "text/plain": [
       "[(0, 0), (1, 2), (2, 1), (3, 4), (4, 3)]"
      ]
     },
     "execution_count": 7,
     "metadata": {},
     "output_type": "execute_result"
    }
   ],
   "source": [
    "sorted_d"
   ]
  },
  {
   "cell_type": "code",
   "execution_count": 8,
   "id": "b6821303",
   "metadata": {},
   "outputs": [],
   "source": [
    "import operator"
   ]
  },
  {
   "cell_type": "code",
   "execution_count": 12,
   "id": "94accec2",
   "metadata": {},
   "outputs": [],
   "source": [
    "sorted_d=sorted(d.items(),key=operator.itemgetter(1),reverse=True)"
   ]
  },
  {
   "cell_type": "code",
   "execution_count": 13,
   "id": "d75c1a8b",
   "metadata": {},
   "outputs": [
    {
     "data": {
      "text/plain": [
       "[(3, 4), (4, 3), (1, 2), (2, 1), (0, 0)]"
      ]
     },
     "execution_count": 13,
     "metadata": {},
     "output_type": "execute_result"
    }
   ],
   "source": [
    "sorted_d"
   ]
  },
  {
   "cell_type": "code",
   "execution_count": null,
   "id": "cfe4accd",
   "metadata": {},
   "outputs": [],
   "source": []
  }
 ],
 "metadata": {
  "kernelspec": {
   "display_name": "Python 3 (ipykernel)",
   "language": "python",
   "name": "python3"
  },
  "language_info": {
   "codemirror_mode": {
    "name": "ipython",
    "version": 3
   },
   "file_extension": ".py",
   "mimetype": "text/x-python",
   "name": "python",
   "nbconvert_exporter": "python",
   "pygments_lexer": "ipython3",
   "version": "3.9.12"
  }
 },
 "nbformat": 4,
 "nbformat_minor": 5
}
