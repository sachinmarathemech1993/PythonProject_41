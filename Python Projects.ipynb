{
 "cells": [
  {
   "cell_type": "code",
   "execution_count": 30,
   "id": "2cdd920c",
   "metadata": {},
   "outputs": [
    {
     "name": "stdout",
     "output_type": "stream",
     "text": [
      "Enter your email:::sachin.marathe98@gmail.c\n",
      "wrong email 4\n"
     ]
    }
   ],
   "source": [
    "#email validation project\n",
    "\n",
    "email=input('Enter your email:::')\n",
    "k=0\n",
    "j=0\n",
    "d=0\n",
    "if len(email)>=6:                              #1\n",
    "    if email[0].isalpha():#2\n",
    "        if ('@' in email) and (email.count('@')==1):#3\n",
    "            if (email[-4]=='.')^(email[-3]==1):#4\n",
    "                for i in email:\n",
    "                    if i==i.isspace():\n",
    "                        k=1\n",
    "                    elif i.isalpha():\n",
    "                        if i==i.upper():\n",
    "                            j=1\n",
    "                    elif i.isdigit():\n",
    "                        continue\n",
    "                    elif i=='_' or i=='@' or i=='.':\n",
    "                        continue\n",
    "                    else:\n",
    "                        d=1        \n",
    "                if k==1 or k==1 or d==1:#h\n",
    "                    print('wrong email 5')\n",
    "                else:\n",
    "                    print('right email')\n",
    "            else:\n",
    "                print('wrong email 4')\n",
    "        else:\n",
    "            print('wrong email 3')\n",
    "    else:\n",
    "        print('wrong email 2')    \n",
    "else:\n",
    "    print('wrong email 1')"
   ]
  },
  {
   "cell_type": "code",
   "execution_count": null,
   "id": "964ccc98",
   "metadata": {},
   "outputs": [],
   "source": [
    "p=[10,20,4,15,35,21]\n"
   ]
  }
 ],
 "metadata": {
  "kernelspec": {
   "display_name": "Python 3 (ipykernel)",
   "language": "python",
   "name": "python3"
  },
  "language_info": {
   "codemirror_mode": {
    "name": "ipython",
    "version": 3
   },
   "file_extension": ".py",
   "mimetype": "text/x-python",
   "name": "python",
   "nbconvert_exporter": "python",
   "pygments_lexer": "ipython3",
   "version": "3.9.12"
  }
 },
 "nbformat": 4,
 "nbformat_minor": 5
}
